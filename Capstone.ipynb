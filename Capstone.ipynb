{
  "nbformat": 4,
  "nbformat_minor": 0,
  "metadata": {
    "colab": {
      "name": "Capstone.ipynb",
      "provenance": [],
      "collapsed_sections": []
    },
    "kernelspec": {
      "name": "python3",
      "display_name": "Python 3"
    }
  },
  "cells": [
    {
      "cell_type": "markdown",
      "metadata": {
        "id": "2acyiVX0mOIj"
      },
      "source": [
        "#Steps to using this program\n",
        "\n",
        "\n",
        "\n",
        "1.   Have your guitar tablatures copied\n",
        "2.   Run cell no.1 and follow the instructions to input your tablature as data\n",
        "3.   Run cell no.2 and choose which major key you want your output to be in (will implement modes by the final submission)\n",
        "4.   Run each cell below until the end. The final cell will print the generated guitar tablature\n",
        "\n"
      ]
    },
    {
      "cell_type": "markdown",
      "metadata": {
        "id": "vlDTvjowCe1y"
      },
      "source": [
        "#Take guitar tabs as input"
      ]
    },
    {
      "cell_type": "code",
      "metadata": {
        "id": "aMJhH-2rATZG"
      },
      "source": [
        "#Take guitar tab or tabs is input\n",
        "\n",
        "more_tabs = True\n",
        "tabs = []\n",
        "while more_tabs == True:\n",
        "  tab = input(\"Copy paste your tab here: \")\n",
        "  tabs.append(tab)\n",
        "  ask_more = input('Do you want to input more tabs (Y/N): ')\n",
        "  if ask_more.upper() == 'N':\n",
        "    more_tabs = False\n",
        "\n",
        "\n"
      ],
      "execution_count": null,
      "outputs": []
    },
    {
      "cell_type": "markdown",
      "metadata": {
        "id": "nao4AdBLpcut"
      },
      "source": [
        "#Music theory stuff"
      ]
    },
    {
      "cell_type": "code",
      "metadata": {
        "id": "GNXngY1ueB9c"
      },
      "source": [
        "\n",
        "#Asks the user what they want and pins down the notes in the major scale of that key\n",
        "key = input('Which major key do you want your tabs to be in: ')\n",
        "\n",
        "def shift(seq, shift):\n",
        "    return seq[shift:] + seq[:shift]\n",
        "\n",
        "notes = ['C','C#','D','D#','E','F','F#','G','G#','A','A#','B']\n",
        "\n",
        "major_formula = [0,2,4,5,7,9,11]\n",
        "\n",
        "\n",
        "shifted_notes = shift(notes,notes.index(key))\n",
        "\n",
        "new_notes = [ shifted_notes[i] for i in major_formula]\n"
      ],
      "execution_count": null,
      "outputs": []
    },
    {
      "cell_type": "markdown",
      "metadata": {
        "id": "CGs8Cgc-CiC_"
      },
      "source": [
        "#Process guitar tabs to understand the amount of notes in one string\n",
        "\n",
        "Each guitar tab is different so we need to check the length of notes in each string"
      ]
    },
    {
      "cell_type": "code",
      "metadata": {
        "id": "3-K74D3MhWv9"
      },
      "source": [
        "#Check length of number of notes in each string of tab\n",
        "\n",
        "tab_lengths = []\n",
        "\n",
        "\n",
        "for tab in tabs:\n",
        "  start_check = False\n",
        "  for i in range(len(tab)):\n",
        "\n",
        "    if start_check == False:\n",
        "      if tab[i] == '|':\n",
        "        start = i\n",
        "        start_check = True\n",
        "\n",
        "    else:\n",
        "      if tab[i] == '|':\n",
        "        end = i\n",
        "        break\n",
        "  tab_lengths.append(end - start - 1)\n"
      ],
      "execution_count": null,
      "outputs": []
    },
    {
      "cell_type": "markdown",
      "metadata": {
        "id": "zETRNl2zCtDY"
      },
      "source": [
        "#Process the whole tab and put each string's notes in an array"
      ]
    },
    {
      "cell_type": "code",
      "metadata": {
        "id": "XjuzvcWmaiur"
      },
      "source": [
        "#Arrays to hold each string's notes\n",
        "string_e = []\n",
        "string_B = []\n",
        "string_G = []\n",
        "string_D = []\n",
        "string_A = []\n",
        "string_E = []"
      ],
      "execution_count": null,
      "outputs": []
    },
    {
      "cell_type": "code",
      "metadata": {
        "id": "ZTYhcLT3eUI5"
      },
      "source": [
        "\n",
        "\n",
        "count = 0\n",
        "\n",
        "#Put the notes for each string in the aforementioned lists\n",
        "for tab in tabs:\n",
        "\n",
        "  #Checks for optimization purposes\n",
        "  check_e = False\n",
        "  check_B = False\n",
        "  check_G = False\n",
        "  check_D = False\n",
        "  check_A = False\n",
        "  check_E = False\n",
        "  \n",
        "  for i in range(len(tab)):\n",
        "    \n",
        "    if check_e == False:\n",
        "      if tab[i] == 'e':\n",
        "        string_e.append(tab[i+2:i+2+tab_lengths[count]])\n",
        "        check_e = True \n",
        "    \n",
        "    if check_B == False:\n",
        "      if tab[i] == 'B':\n",
        "        string_B.append(tab[i+2:i+2+tab_lengths[count]])\n",
        "\n",
        "    if check_G == False:\n",
        "      if tab[i] == 'G':\n",
        "        string_G.append(tab[i+2:i+2+tab_lengths[count]])\n",
        "\n",
        "    if check_D == False:\n",
        "      if tab[i] == 'D':\n",
        "        string_D.append(tab[i+2:i+2+tab_lengths[count]])\n",
        "\n",
        "    if check_A == False:\n",
        "      if tab[i] == 'A':\n",
        "        string_A.append(tab[i+2:i+2+tab_lengths[count]])\n",
        "\n",
        "    if check_E == False:\n",
        "      if tab[i] == 'E':\n",
        "        string_E.append(tab[i+2:i+2+tab_lengths[count]])\n",
        "\n",
        "  count+=1"
      ],
      "execution_count": null,
      "outputs": []
    },
    {
      "cell_type": "code",
      "metadata": {
        "id": "63JpCU75pAMx"
      },
      "source": [
        "#Now we have the tabs in a prettier format\n",
        "e = ''.join(string_e)\n",
        "B = ''.join(string_B)\n",
        "G = ''.join(string_G)\n",
        "D = ''.join(string_D)\n",
        "A = ''.join(string_A)\n",
        "E = ''.join(string_E)\n",
        "\n",
        "longest_len = max(len(e),len(B),len(G),len(D),len(A),len(E))\n",
        "\n",
        "while len(e) < longest_len:\n",
        "  e += '-'\n",
        "\n",
        "while len(B) < longest_len:\n",
        "  B += '-'\n",
        "\n",
        "while len(G) < longest_len:\n",
        "  G += '-'\n",
        "\n",
        "while len(D) < longest_len:\n",
        "  D += '-'\n",
        "\n",
        "while len(A) < longest_len:\n",
        "  A += '-'\n",
        "\n",
        "while len(E) < longest_len:\n",
        "  E += '-'"
      ],
      "execution_count": null,
      "outputs": []
    },
    {
      "cell_type": "code",
      "metadata": {
        "id": "Aeu9WNEf2NdF"
      },
      "source": [
        "e,B,G,D,A,E"
      ],
      "execution_count": null,
      "outputs": []
    },
    {
      "cell_type": "markdown",
      "metadata": {
        "id": "aqS6wJQSWfAK"
      },
      "source": [
        "#Functions so I don't repeat a lot of code"
      ]
    },
    {
      "cell_type": "code",
      "metadata": {
        "id": "H6cgmU9i4Zls"
      },
      "source": [
        "\n",
        "flag = True\n",
        "\n",
        "\n",
        "def lazy_function():\n",
        "  notes.append(e[i])\n",
        "  notes.append(B[i])\n",
        "  notes.append(G[i])\n",
        "  notes.append(D[i])\n",
        "  notes.append(A[i])\n",
        "  notes.append(E[i])\n",
        "  notes.append(e[i+1])\n",
        "  notes.append(B[i+1])\n",
        "  notes.append(G[i+1])\n",
        "  notes.append(D[i+1])\n",
        "  notes.append(A[i+1])\n",
        "  notes.append(E[i+1])\n",
        "  final_notes.append(notes)\n",
        "\n",
        "def lazy_function2():\n",
        "  notes.append(e[i])\n",
        "  notes.append(B[i])\n",
        "  notes.append(G[i])\n",
        "  notes.append(D[i])\n",
        "  notes.append(A[i])\n",
        "  notes.append(E[i])\n",
        "  final_notes.append(notes)"
      ],
      "execution_count": null,
      "outputs": []
    },
    {
      "cell_type": "markdown",
      "metadata": {
        "id": "C0zYZ_Q7C1vA"
      },
      "source": [
        "#Process the notes and understand which notes are being represented"
      ]
    },
    {
      "cell_type": "code",
      "metadata": {
        "id": "iTWNMF7A40QF"
      },
      "source": [
        "#This cell basically takes a vertical slice of the tablature to get a single note/chord\n",
        "#Then it appends that note/chord into a list\n",
        "final_notes = []\n",
        "\n",
        "\n",
        "\n",
        "for i in range(longest_len):\n",
        "    if flag == False:\n",
        "        flag = True\n",
        "        continue\n",
        "    notes = []\n",
        "    if e[i].isdigit() == True:\n",
        "        if i != longest_len-1:\n",
        "          if e[i+1].isdigit() == True:\n",
        "            lazy_function()\n",
        "            flag = False\n",
        "            continue\n",
        "          else:\n",
        "            lazy_function2()\n",
        "    \n",
        "    if B[i].isdigit() == True:\n",
        "      if i != longest_len-1:\n",
        "        if B[i+1].isdigit() == True:\n",
        "          lazy_function()\n",
        "          flag = False\n",
        "          continue\n",
        "        else:\n",
        "          lazy_function2()\n",
        "\n",
        "    if G[i].isdigit() == True:\n",
        "      if i != longest_len-1:\n",
        "        if G[i+1].isdigit() == True:\n",
        "          lazy_function()\n",
        "          flag = False\n",
        "          continue\n",
        "        else:\n",
        "          lazy_function2()\n",
        "\n",
        "    if D[i].isdigit() == True:\n",
        "      if i != longest_len-1:\n",
        "        if D[i+1].isdigit() == True:\n",
        "          lazy_function()\n",
        "          flag = False\n",
        "          continue\n",
        "        else:\n",
        "          lazy_function2()\n",
        "\n",
        "    if A[i].isdigit() == True:\n",
        "      if i != longest_len-1:\n",
        "        if A[i+1].isdigit() == True:\n",
        "          lazy_function()\n",
        "          flag = False\n",
        "          continue\n",
        "        else:\n",
        "          lazy_function2()\n",
        "    \n",
        "    if E[i].isdigit() == True:\n",
        "      if i != longest_len-1:\n",
        "        if E[i+1].isdigit() == True:\n",
        "          lazy_function()\n",
        "          flag = False\n",
        "          continue\n",
        "        else:\n",
        "          lazy_function2()"
      ],
      "execution_count": null,
      "outputs": []
    },
    {
      "cell_type": "code",
      "metadata": {
        "id": "8qbTPm8lS9jk"
      },
      "source": [
        "#Process final notes to get rid of wrongly processed notes. For example,\n",
        "#consecutive 5's can be read as 55, but the guitar only has 24 frets.\n",
        "\n",
        "#Array to store indices of notes which are to be removed\n",
        "removal_index = []\n",
        "\n",
        "for note in range(len(final_notes)):\n",
        "  if len(final_notes[note]) > 8:\n",
        "    for i in range(6):\n",
        "      if final_notes[note][i].isdigit() == True and final_notes[note][i+6].isdigit() == True:\n",
        "        if (int(final_notes[note][i] + final_notes[note][i+6])) > 24:\n",
        "          final_notes.append(final_notes[note][0:6])\n",
        "          final_notes.append(final_notes[note][6:12])\n",
        "          removal_index.append(note)\n",
        "          break\n",
        "\n",
        "\n",
        "#Get rid of the wrong notes\n",
        "final_notes = [i for j, i in enumerate(final_notes) if j not in removal_index]\n",
        "\n",
        "#Join different string notes or dashes\n",
        "for i in range(len(final_notes)):\n",
        "  final_notes[i] = ''.join(final_notes[i])"
      ],
      "execution_count": null,
      "outputs": []
    },
    {
      "cell_type": "markdown",
      "metadata": {
        "id": "d9KbigAQHdlV"
      },
      "source": [
        "#Running Density Estimation on the notes (also draws a plot of our distribution)"
      ]
    },
    {
      "cell_type": "code",
      "metadata": {
        "id": "5OX7fmmYHbu3"
      },
      "source": [
        "#Import libraries\n",
        "from sklearn.neighbors import KernelDensity\n",
        "from sklearn.preprocessing import LabelEncoder\n",
        "from math import ceil, floor\n",
        "\n",
        "\n",
        "#dataset of notes\n",
        "notes = final_notes\n",
        "\n",
        "#Label encoding to transform notes\n",
        "encoder = LabelEncoder()\n",
        "transformed_notes = encoder.fit_transform(notes)\n",
        "\n",
        "#Fit our kernel density estimate for the data\n",
        "model = KernelDensity(bandwidth=0.5,kernel='gaussian')\n",
        "model.fit([transformed_notes])\n",
        "\n",
        "#Code to plot the distribution of the notes\n",
        "import seaborn as sns\n",
        "import matplotlib.pyplot as plt\n",
        "\n",
        "samples = model.sample(n_samples=10000)\n",
        "\n",
        "sns.distplot(samples)\n",
        "plt.title('Distribution of our notes')\n",
        "plt.xlabel('Label Encoded X axis')\n",
        "plt.ylabel('Probability of note')     \n",
        "plt.show()     "
      ],
      "execution_count": null,
      "outputs": []
    },
    {
      "cell_type": "markdown",
      "metadata": {
        "id": "-31PucEBQ5ib"
      },
      "source": [
        "#Generating Samples"
      ]
    },
    {
      "cell_type": "code",
      "metadata": {
        "id": "gzxtmWdDKQcA"
      },
      "source": [
        "#This cell ensures that our samples don't go out of the range. This is a minor\n",
        "#drawback of density estimation that we can get samples out of the range of our \n",
        "#data e.g. if your dataset just consists of 1's, there is a VERY small chance\n",
        "#you might just sample a 2 or a -1.\n",
        "test = model.sample(1)\n",
        "#print(encoder.classes_)\n",
        "classes_len = len(encoder.classes_)\n",
        "\n",
        "test_notes = []\n",
        "for samples in test:\n",
        "  for i in samples:\n",
        "    try:\n",
        "      note = [int(ceil(i))]\n",
        "      if note[0] >= classes_len:\n",
        "        note[0] = classes_len-1\n",
        "      elif note[0] < 0:\n",
        "        note[0] = 0\n",
        "      test_notes.append(encoder.inverse_transform(note)[0])\n",
        "    except:\n",
        "      note[0] = [int(floor(i))]\n",
        "      if note[0] >= classes_len:\n",
        "        note[0] = classes_len -1\n",
        "      elif note[0] < 0:\n",
        "        note[0] = 0\n",
        "      test_notes.append(encoder.inverse_transform(note)[0])\n",
        "\n",
        "\n"
      ],
      "execution_count": null,
      "outputs": []
    },
    {
      "cell_type": "markdown",
      "metadata": {
        "id": "l4zKFf7yC-XI"
      },
      "source": [
        "#Map each guitar tab number to a specific note i.e. 3 on the E string is a G in standard tuning"
      ]
    },
    {
      "cell_type": "code",
      "metadata": {
        "id": "aN1yvd8pBUvL"
      },
      "source": [
        "e_notes = {\n",
        "    0:'E4',\n",
        "    1:'F4',\n",
        "    2:'F#4',\n",
        "    3:'G4',\n",
        "    4:'G#4',\n",
        "    5:'A4',\n",
        "    6:'A#4',\n",
        "    7:'B4',\n",
        "    8:'C4',\n",
        "    9:'C#4',\n",
        "    10:'D4',\n",
        "    11:'D#4',\n",
        "    12:'E5',\n",
        "    13:'F5',\n",
        "    14:'F#5',\n",
        "    15:'G5',\n",
        "    16:'G#5',\n",
        "    17:'A5',\n",
        "    18:'A#5',\n",
        "    19:'B5',\n",
        "    20:'C5',\n",
        "    21:'C#5',\n",
        "    22:'D5',\n",
        "    23:'D#5',\n",
        "    24:'E6'\n",
        "\n",
        "}\n",
        "\n",
        "B_notes = {\n",
        "    0:'B3',\n",
        "    1:'C4',\n",
        "    2:'C#4',\n",
        "    3:'D4',\n",
        "    4:'D#4',\n",
        "    5:'E4',\n",
        "    6:'F4',\n",
        "    7:'F#4',\n",
        "    8:'G4',\n",
        "    9:'G#4',\n",
        "    10:'A4',\n",
        "    11:'A#4',\n",
        "    12:'B4',\n",
        "    13:'C5',\n",
        "    14:'C#5',\n",
        "    15:'D5',\n",
        "    16:'D#5',\n",
        "    17:'E5',\n",
        "    18:'F5',\n",
        "    19:'F#5',\n",
        "    20:'G5',\n",
        "    21:'G#5',\n",
        "    22:'A5',\n",
        "    23:'A#5',\n",
        "    24:'B5'\n",
        "\n",
        "}\n",
        "\n",
        "\n",
        "G_notes = {\n",
        "    0:'G3',\n",
        "    1:'G#3',\n",
        "    2:'A3',\n",
        "    3:'A#3',\n",
        "    4:'B3',\n",
        "    5:'C3',\n",
        "    6:'C#3',\n",
        "    7:'D3',\n",
        "    8:'D#3',\n",
        "    9:'E3',\n",
        "    10:'F3',\n",
        "    11:'F#3',\n",
        "    12:'G4',\n",
        "    13:'G#4',\n",
        "    14:'A4',\n",
        "    15:'A#4',\n",
        "    16:'B4',\n",
        "    17:'C4',\n",
        "    18:'C#4',\n",
        "    19:'D4',\n",
        "    20:'D#4',\n",
        "    21:'E4',\n",
        "    22:'F4',\n",
        "    23:'F#4',\n",
        "    24:'G5'\n",
        "\n",
        "}\n",
        "\n",
        "D_notes = {\n",
        "    0:'D3',\n",
        "    1:'D#3',\n",
        "    2:'E3',\n",
        "    3:'F3',\n",
        "    4:'F#3',\n",
        "    5:'G3',\n",
        "    6:'G#3',\n",
        "    7:'A3',\n",
        "    8:'A#3',\n",
        "    9:'B3',\n",
        "    10:'C3',\n",
        "    11:'C#3',\n",
        "    12:'D4',\n",
        "    13:'D#4',\n",
        "    14:'E4',\n",
        "    15:'F4',\n",
        "    16:'F#4',\n",
        "    17:'G4',\n",
        "    18:'G#4',\n",
        "    19:'A4',\n",
        "    20:'A#4',\n",
        "    21:'B4',\n",
        "    22:'C4',\n",
        "    23:'C#4',\n",
        "    24:'D5'\n",
        "\n",
        "}\n",
        "\n",
        "A_notes = {\n",
        "    0:'A2',\n",
        "    1:'A#2',\n",
        "    2:'B2',\n",
        "    3:'C2',\n",
        "    4:'C#2',\n",
        "    5:'D2',\n",
        "    6:'D#2',\n",
        "    7:'E2',\n",
        "    8:'F2',\n",
        "    9:'F#2',\n",
        "    10:'G2',\n",
        "    11:'G#2',\n",
        "    12:'A3',\n",
        "    13:'A#3',\n",
        "    14:'B3',\n",
        "    15:'C3',\n",
        "    16:'C#3',\n",
        "    17:'D3',\n",
        "    18:'D#3',\n",
        "    19:'E3',\n",
        "    20:'F3',\n",
        "    21:'F#3',\n",
        "    22:'G3',\n",
        "    23:'G#3',\n",
        "    24:'A4'\n",
        "\n",
        "}\n",
        "\n",
        "\n",
        "E_notes = {\n",
        "    0:'E2',\n",
        "    1:'F2',\n",
        "    2:'F#2',\n",
        "    3:'G2',\n",
        "    4:'G#2',\n",
        "    5:'A2',\n",
        "    6:'A#2',\n",
        "    7:'B2',\n",
        "    8:'C2',\n",
        "    9:'C#2',\n",
        "    10:'D2',\n",
        "    11:'D#2',\n",
        "    12:'E3',\n",
        "    13:'F3',\n",
        "    14:'F#3',\n",
        "    15:'G3',\n",
        "    16:'G#3',\n",
        "    17:'A3',\n",
        "    18:'A#3',\n",
        "    19:'B3',\n",
        "    20:'C3',\n",
        "    21:'C#3',\n",
        "    22:'D3',\n",
        "    23:'D#3',\n",
        "    24:'E4'\n",
        "\n",
        "}"
      ],
      "execution_count": null,
      "outputs": []
    },
    {
      "cell_type": "markdown",
      "metadata": {
        "id": "E_c4ZIHQeTmR"
      },
      "source": [
        "#Music Theory Time (filters notes according to the key specified by the user)\n"
      ]
    },
    {
      "cell_type": "code",
      "metadata": {
        "id": "VNXXNQAkh3S_"
      },
      "source": [
        "string_notes = [e_notes,B_notes,G_notes,D_notes,A_notes,E_notes]\n",
        "filtered_notes = []\n",
        "\n",
        "#Filter notes according to major scale\n",
        "for note in test_notes:\n",
        "  if len(note) == 6:\n",
        "\n",
        "    for index in range(len(note)):\n",
        "\n",
        "      if note[index].isdigit() == True:\n",
        "\n",
        "        temp_note = string_notes[index][int(note[index])]\n",
        "\n",
        "        if len(temp_note) == 2 and temp_note[0] in new_notes:\n",
        "          filtered_notes.append(note)\n",
        "\n",
        "        elif temp_note[0:2] in new_notes:\n",
        "          filtered_notes.append(note)\n",
        "\n",
        "  else:\n",
        "    for index in range(len(note)):\n",
        "      if note[index].isdigit() == True:\n",
        "        temp_note = string_notes[index][int(note[index]+note[index+6])]\n",
        "\n",
        "        if len(temp_note) == 2 and temp_note[0] in new_notes:\n",
        "          filtered_notes.append(note)\n",
        "\n",
        "        elif temp_note[0:2] in new_notes:\n",
        "          filtered_notes.append(note)\n",
        "        break\n",
        "\n"
      ],
      "execution_count": null,
      "outputs": []
    },
    {
      "cell_type": "markdown",
      "metadata": {
        "id": "noMVEt8Dpnqy"
      },
      "source": [
        "#Printing time (prints the output in the way a guitar tablature is formatted)"
      ]
    },
    {
      "cell_type": "code",
      "metadata": {
        "id": "yA3HLturlxqz"
      },
      "source": [
        "#Lists for holding notes\n",
        "print_e = []\n",
        "print_B = []\n",
        "print_G = []\n",
        "print_D = []\n",
        "print_A = []\n",
        "print_E = []\n",
        "\n",
        "for note in filtered_notes:\n",
        "  if len(note) == 6:\n",
        "    print_e.append(note[0])\n",
        "    print_B.append(note[1])\n",
        "    print_G.append(note[2])\n",
        "    print_D.append(note[3])\n",
        "    print_A.append(note[4])\n",
        "    print_E.append(note[5])\n",
        "\n",
        "    print_e.append('-')\n",
        "    print_B.append('-')\n",
        "    print_G.append('-')\n",
        "    print_D.append('-')\n",
        "    print_A.append('-')\n",
        "    print_E.append('-')\n",
        "  else:\n",
        "    print_e.append(note[0])\n",
        "    print_B.append(note[1])\n",
        "    print_G.append(note[2])\n",
        "    print_D.append(note[3])\n",
        "    print_A.append(note[4])\n",
        "    print_E.append(note[5])\n",
        "    print_e.append(note[6])\n",
        "    print_B.append(note[7])\n",
        "    print_G.append(note[8])\n",
        "    print_D.append(note[9])\n",
        "    print_A.append(note[10])\n",
        "    print_E.append(note[11])\n",
        "    print_e.append('-')\n",
        "    print_B.append('-')\n",
        "    print_G.append('-')\n",
        "    print_D.append('-')\n",
        "    print_A.append('-')\n",
        "    print_E.append('-')\n",
        "\n",
        "print(''.join(print_e))\n",
        "print(''.join(print_B))\n",
        "print(''.join(print_G))\n",
        "print(''.join(print_D))\n",
        "print(''.join(print_A))\n",
        "print(''.join(print_E))"
      ],
      "execution_count": null,
      "outputs": []
    }
  ]
}